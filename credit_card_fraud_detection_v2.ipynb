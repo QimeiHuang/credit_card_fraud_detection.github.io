{
  "nbformat": 4,
  "nbformat_minor": 0,
  "metadata": {
    "colab": {
      "name": "credit_card_fraud_detection_v2.ipynb",
      "provenance": [],
      "collapsed_sections": []
    },
    "kernelspec": {
      "name": "python3",
      "display_name": "Python 3"
    }
  },
  "cells": [
    {
      "cell_type": "markdown",
      "metadata": {
        "id": "AvMhJmmO9tbg",
        "colab_type": "text"
      },
      "source": [
        "#google colab link\n",
        "https://colab.research.google.com/drive/1zpjI_nOYlEORb_IJfr-dPwHiNQCFQr2Q"
      ]
    },
    {
      "cell_type": "markdown",
      "metadata": {
        "id": "usZJE2z1hnWY",
        "colab_type": "text"
      },
      "source": [
        "## **1. Load the data into data frame**"
      ]
    },
    {
      "cell_type": "code",
      "metadata": {
        "id": "8zqgR_kFlDLv",
        "colab_type": "code",
        "outputId": "89aa35c9-a834-4070-8cfb-be65659e4f18",
        "colab": {
          "base_uri": "https://localhost:8080/",
          "height": 218
        }
      },
      "source": [
        "import pandas as pd\n",
        "df = pd.read_csv('creditcard.csv')\n",
        "df.head(5)"
      ],
      "execution_count": 1,
      "outputs": [
        {
          "output_type": "execute_result",
          "data": {
            "text/html": [
              "<div>\n",
              "<style scoped>\n",
              "    .dataframe tbody tr th:only-of-type {\n",
              "        vertical-align: middle;\n",
              "    }\n",
              "\n",
              "    .dataframe tbody tr th {\n",
              "        vertical-align: top;\n",
              "    }\n",
              "\n",
              "    .dataframe thead th {\n",
              "        text-align: right;\n",
              "    }\n",
              "</style>\n",
              "<table border=\"1\" class=\"dataframe\">\n",
              "  <thead>\n",
              "    <tr style=\"text-align: right;\">\n",
              "      <th></th>\n",
              "      <th>Time</th>\n",
              "      <th>V1</th>\n",
              "      <th>V2</th>\n",
              "      <th>V3</th>\n",
              "      <th>V4</th>\n",
              "      <th>V5</th>\n",
              "      <th>V6</th>\n",
              "      <th>V7</th>\n",
              "      <th>V8</th>\n",
              "      <th>V9</th>\n",
              "      <th>V10</th>\n",
              "      <th>V11</th>\n",
              "      <th>V12</th>\n",
              "      <th>V13</th>\n",
              "      <th>V14</th>\n",
              "      <th>V15</th>\n",
              "      <th>V16</th>\n",
              "      <th>V17</th>\n",
              "      <th>V18</th>\n",
              "      <th>V19</th>\n",
              "      <th>V20</th>\n",
              "      <th>V21</th>\n",
              "      <th>V22</th>\n",
              "      <th>V23</th>\n",
              "      <th>V24</th>\n",
              "      <th>V25</th>\n",
              "      <th>V26</th>\n",
              "      <th>V27</th>\n",
              "      <th>V28</th>\n",
              "      <th>Amount</th>\n",
              "      <th>Class</th>\n",
              "    </tr>\n",
              "  </thead>\n",
              "  <tbody>\n",
              "    <tr>\n",
              "      <th>0</th>\n",
              "      <td>0.0</td>\n",
              "      <td>-1.359807</td>\n",
              "      <td>-0.072781</td>\n",
              "      <td>2.536347</td>\n",
              "      <td>1.378155</td>\n",
              "      <td>-0.338321</td>\n",
              "      <td>0.462388</td>\n",
              "      <td>0.239599</td>\n",
              "      <td>0.098698</td>\n",
              "      <td>0.363787</td>\n",
              "      <td>0.090794</td>\n",
              "      <td>-0.551600</td>\n",
              "      <td>-0.617801</td>\n",
              "      <td>-0.991390</td>\n",
              "      <td>-0.311169</td>\n",
              "      <td>1.468177</td>\n",
              "      <td>-0.470401</td>\n",
              "      <td>0.207971</td>\n",
              "      <td>0.025791</td>\n",
              "      <td>0.403993</td>\n",
              "      <td>0.251412</td>\n",
              "      <td>-0.018307</td>\n",
              "      <td>0.277838</td>\n",
              "      <td>-0.110474</td>\n",
              "      <td>0.066928</td>\n",
              "      <td>0.128539</td>\n",
              "      <td>-0.189115</td>\n",
              "      <td>0.133558</td>\n",
              "      <td>-0.021053</td>\n",
              "      <td>149.62</td>\n",
              "      <td>0</td>\n",
              "    </tr>\n",
              "    <tr>\n",
              "      <th>1</th>\n",
              "      <td>0.0</td>\n",
              "      <td>1.191857</td>\n",
              "      <td>0.266151</td>\n",
              "      <td>0.166480</td>\n",
              "      <td>0.448154</td>\n",
              "      <td>0.060018</td>\n",
              "      <td>-0.082361</td>\n",
              "      <td>-0.078803</td>\n",
              "      <td>0.085102</td>\n",
              "      <td>-0.255425</td>\n",
              "      <td>-0.166974</td>\n",
              "      <td>1.612727</td>\n",
              "      <td>1.065235</td>\n",
              "      <td>0.489095</td>\n",
              "      <td>-0.143772</td>\n",
              "      <td>0.635558</td>\n",
              "      <td>0.463917</td>\n",
              "      <td>-0.114805</td>\n",
              "      <td>-0.183361</td>\n",
              "      <td>-0.145783</td>\n",
              "      <td>-0.069083</td>\n",
              "      <td>-0.225775</td>\n",
              "      <td>-0.638672</td>\n",
              "      <td>0.101288</td>\n",
              "      <td>-0.339846</td>\n",
              "      <td>0.167170</td>\n",
              "      <td>0.125895</td>\n",
              "      <td>-0.008983</td>\n",
              "      <td>0.014724</td>\n",
              "      <td>2.69</td>\n",
              "      <td>0</td>\n",
              "    </tr>\n",
              "    <tr>\n",
              "      <th>2</th>\n",
              "      <td>1.0</td>\n",
              "      <td>-1.358354</td>\n",
              "      <td>-1.340163</td>\n",
              "      <td>1.773209</td>\n",
              "      <td>0.379780</td>\n",
              "      <td>-0.503198</td>\n",
              "      <td>1.800499</td>\n",
              "      <td>0.791461</td>\n",
              "      <td>0.247676</td>\n",
              "      <td>-1.514654</td>\n",
              "      <td>0.207643</td>\n",
              "      <td>0.624501</td>\n",
              "      <td>0.066084</td>\n",
              "      <td>0.717293</td>\n",
              "      <td>-0.165946</td>\n",
              "      <td>2.345865</td>\n",
              "      <td>-2.890083</td>\n",
              "      <td>1.109969</td>\n",
              "      <td>-0.121359</td>\n",
              "      <td>-2.261857</td>\n",
              "      <td>0.524980</td>\n",
              "      <td>0.247998</td>\n",
              "      <td>0.771679</td>\n",
              "      <td>0.909412</td>\n",
              "      <td>-0.689281</td>\n",
              "      <td>-0.327642</td>\n",
              "      <td>-0.139097</td>\n",
              "      <td>-0.055353</td>\n",
              "      <td>-0.059752</td>\n",
              "      <td>378.66</td>\n",
              "      <td>0</td>\n",
              "    </tr>\n",
              "    <tr>\n",
              "      <th>3</th>\n",
              "      <td>1.0</td>\n",
              "      <td>-0.966272</td>\n",
              "      <td>-0.185226</td>\n",
              "      <td>1.792993</td>\n",
              "      <td>-0.863291</td>\n",
              "      <td>-0.010309</td>\n",
              "      <td>1.247203</td>\n",
              "      <td>0.237609</td>\n",
              "      <td>0.377436</td>\n",
              "      <td>-1.387024</td>\n",
              "      <td>-0.054952</td>\n",
              "      <td>-0.226487</td>\n",
              "      <td>0.178228</td>\n",
              "      <td>0.507757</td>\n",
              "      <td>-0.287924</td>\n",
              "      <td>-0.631418</td>\n",
              "      <td>-1.059647</td>\n",
              "      <td>-0.684093</td>\n",
              "      <td>1.965775</td>\n",
              "      <td>-1.232622</td>\n",
              "      <td>-0.208038</td>\n",
              "      <td>-0.108300</td>\n",
              "      <td>0.005274</td>\n",
              "      <td>-0.190321</td>\n",
              "      <td>-1.175575</td>\n",
              "      <td>0.647376</td>\n",
              "      <td>-0.221929</td>\n",
              "      <td>0.062723</td>\n",
              "      <td>0.061458</td>\n",
              "      <td>123.50</td>\n",
              "      <td>0</td>\n",
              "    </tr>\n",
              "    <tr>\n",
              "      <th>4</th>\n",
              "      <td>2.0</td>\n",
              "      <td>-1.158233</td>\n",
              "      <td>0.877737</td>\n",
              "      <td>1.548718</td>\n",
              "      <td>0.403034</td>\n",
              "      <td>-0.407193</td>\n",
              "      <td>0.095921</td>\n",
              "      <td>0.592941</td>\n",
              "      <td>-0.270533</td>\n",
              "      <td>0.817739</td>\n",
              "      <td>0.753074</td>\n",
              "      <td>-0.822843</td>\n",
              "      <td>0.538196</td>\n",
              "      <td>1.345852</td>\n",
              "      <td>-1.119670</td>\n",
              "      <td>0.175121</td>\n",
              "      <td>-0.451449</td>\n",
              "      <td>-0.237033</td>\n",
              "      <td>-0.038195</td>\n",
              "      <td>0.803487</td>\n",
              "      <td>0.408542</td>\n",
              "      <td>-0.009431</td>\n",
              "      <td>0.798278</td>\n",
              "      <td>-0.137458</td>\n",
              "      <td>0.141267</td>\n",
              "      <td>-0.206010</td>\n",
              "      <td>0.502292</td>\n",
              "      <td>0.219422</td>\n",
              "      <td>0.215153</td>\n",
              "      <td>69.99</td>\n",
              "      <td>0</td>\n",
              "    </tr>\n",
              "  </tbody>\n",
              "</table>\n",
              "</div>"
            ],
            "text/plain": [
              "   Time        V1        V2        V3  ...       V27       V28  Amount  Class\n",
              "0   0.0 -1.359807 -0.072781  2.536347  ...  0.133558 -0.021053  149.62      0\n",
              "1   0.0  1.191857  0.266151  0.166480  ... -0.008983  0.014724    2.69      0\n",
              "2   1.0 -1.358354 -1.340163  1.773209  ... -0.055353 -0.059752  378.66      0\n",
              "3   1.0 -0.966272 -0.185226  1.792993  ...  0.062723  0.061458  123.50      0\n",
              "4   2.0 -1.158233  0.877737  1.548718  ...  0.219422  0.215153   69.99      0\n",
              "\n",
              "[5 rows x 31 columns]"
            ]
          },
          "metadata": {
            "tags": []
          },
          "execution_count": 1
        }
      ]
    },
    {
      "cell_type": "code",
      "metadata": {
        "id": "-g0A5p47fQYr",
        "colab_type": "code",
        "colab": {
          "base_uri": "https://localhost:8080/",
          "height": 218
        },
        "outputId": "c507dde8-7f07-4787-942f-6e67431ce831"
      },
      "source": [
        "df.tail(5)"
      ],
      "execution_count": 2,
      "outputs": [
        {
          "output_type": "execute_result",
          "data": {
            "text/html": [
              "<div>\n",
              "<style scoped>\n",
              "    .dataframe tbody tr th:only-of-type {\n",
              "        vertical-align: middle;\n",
              "    }\n",
              "\n",
              "    .dataframe tbody tr th {\n",
              "        vertical-align: top;\n",
              "    }\n",
              "\n",
              "    .dataframe thead th {\n",
              "        text-align: right;\n",
              "    }\n",
              "</style>\n",
              "<table border=\"1\" class=\"dataframe\">\n",
              "  <thead>\n",
              "    <tr style=\"text-align: right;\">\n",
              "      <th></th>\n",
              "      <th>Time</th>\n",
              "      <th>V1</th>\n",
              "      <th>V2</th>\n",
              "      <th>V3</th>\n",
              "      <th>V4</th>\n",
              "      <th>V5</th>\n",
              "      <th>V6</th>\n",
              "      <th>V7</th>\n",
              "      <th>V8</th>\n",
              "      <th>V9</th>\n",
              "      <th>V10</th>\n",
              "      <th>V11</th>\n",
              "      <th>V12</th>\n",
              "      <th>V13</th>\n",
              "      <th>V14</th>\n",
              "      <th>V15</th>\n",
              "      <th>V16</th>\n",
              "      <th>V17</th>\n",
              "      <th>V18</th>\n",
              "      <th>V19</th>\n",
              "      <th>V20</th>\n",
              "      <th>V21</th>\n",
              "      <th>V22</th>\n",
              "      <th>V23</th>\n",
              "      <th>V24</th>\n",
              "      <th>V25</th>\n",
              "      <th>V26</th>\n",
              "      <th>V27</th>\n",
              "      <th>V28</th>\n",
              "      <th>Amount</th>\n",
              "      <th>Class</th>\n",
              "    </tr>\n",
              "  </thead>\n",
              "  <tbody>\n",
              "    <tr>\n",
              "      <th>284802</th>\n",
              "      <td>172786.0</td>\n",
              "      <td>-11.881118</td>\n",
              "      <td>10.071785</td>\n",
              "      <td>-9.834783</td>\n",
              "      <td>-2.066656</td>\n",
              "      <td>-5.364473</td>\n",
              "      <td>-2.606837</td>\n",
              "      <td>-4.918215</td>\n",
              "      <td>7.305334</td>\n",
              "      <td>1.914428</td>\n",
              "      <td>4.356170</td>\n",
              "      <td>-1.593105</td>\n",
              "      <td>2.711941</td>\n",
              "      <td>-0.689256</td>\n",
              "      <td>4.626942</td>\n",
              "      <td>-0.924459</td>\n",
              "      <td>1.107641</td>\n",
              "      <td>1.991691</td>\n",
              "      <td>0.510632</td>\n",
              "      <td>-0.682920</td>\n",
              "      <td>1.475829</td>\n",
              "      <td>0.213454</td>\n",
              "      <td>0.111864</td>\n",
              "      <td>1.014480</td>\n",
              "      <td>-0.509348</td>\n",
              "      <td>1.436807</td>\n",
              "      <td>0.250034</td>\n",
              "      <td>0.943651</td>\n",
              "      <td>0.823731</td>\n",
              "      <td>0.77</td>\n",
              "      <td>0</td>\n",
              "    </tr>\n",
              "    <tr>\n",
              "      <th>284803</th>\n",
              "      <td>172787.0</td>\n",
              "      <td>-0.732789</td>\n",
              "      <td>-0.055080</td>\n",
              "      <td>2.035030</td>\n",
              "      <td>-0.738589</td>\n",
              "      <td>0.868229</td>\n",
              "      <td>1.058415</td>\n",
              "      <td>0.024330</td>\n",
              "      <td>0.294869</td>\n",
              "      <td>0.584800</td>\n",
              "      <td>-0.975926</td>\n",
              "      <td>-0.150189</td>\n",
              "      <td>0.915802</td>\n",
              "      <td>1.214756</td>\n",
              "      <td>-0.675143</td>\n",
              "      <td>1.164931</td>\n",
              "      <td>-0.711757</td>\n",
              "      <td>-0.025693</td>\n",
              "      <td>-1.221179</td>\n",
              "      <td>-1.545556</td>\n",
              "      <td>0.059616</td>\n",
              "      <td>0.214205</td>\n",
              "      <td>0.924384</td>\n",
              "      <td>0.012463</td>\n",
              "      <td>-1.016226</td>\n",
              "      <td>-0.606624</td>\n",
              "      <td>-0.395255</td>\n",
              "      <td>0.068472</td>\n",
              "      <td>-0.053527</td>\n",
              "      <td>24.79</td>\n",
              "      <td>0</td>\n",
              "    </tr>\n",
              "    <tr>\n",
              "      <th>284804</th>\n",
              "      <td>172788.0</td>\n",
              "      <td>1.919565</td>\n",
              "      <td>-0.301254</td>\n",
              "      <td>-3.249640</td>\n",
              "      <td>-0.557828</td>\n",
              "      <td>2.630515</td>\n",
              "      <td>3.031260</td>\n",
              "      <td>-0.296827</td>\n",
              "      <td>0.708417</td>\n",
              "      <td>0.432454</td>\n",
              "      <td>-0.484782</td>\n",
              "      <td>0.411614</td>\n",
              "      <td>0.063119</td>\n",
              "      <td>-0.183699</td>\n",
              "      <td>-0.510602</td>\n",
              "      <td>1.329284</td>\n",
              "      <td>0.140716</td>\n",
              "      <td>0.313502</td>\n",
              "      <td>0.395652</td>\n",
              "      <td>-0.577252</td>\n",
              "      <td>0.001396</td>\n",
              "      <td>0.232045</td>\n",
              "      <td>0.578229</td>\n",
              "      <td>-0.037501</td>\n",
              "      <td>0.640134</td>\n",
              "      <td>0.265745</td>\n",
              "      <td>-0.087371</td>\n",
              "      <td>0.004455</td>\n",
              "      <td>-0.026561</td>\n",
              "      <td>67.88</td>\n",
              "      <td>0</td>\n",
              "    </tr>\n",
              "    <tr>\n",
              "      <th>284805</th>\n",
              "      <td>172788.0</td>\n",
              "      <td>-0.240440</td>\n",
              "      <td>0.530483</td>\n",
              "      <td>0.702510</td>\n",
              "      <td>0.689799</td>\n",
              "      <td>-0.377961</td>\n",
              "      <td>0.623708</td>\n",
              "      <td>-0.686180</td>\n",
              "      <td>0.679145</td>\n",
              "      <td>0.392087</td>\n",
              "      <td>-0.399126</td>\n",
              "      <td>-1.933849</td>\n",
              "      <td>-0.962886</td>\n",
              "      <td>-1.042082</td>\n",
              "      <td>0.449624</td>\n",
              "      <td>1.962563</td>\n",
              "      <td>-0.608577</td>\n",
              "      <td>0.509928</td>\n",
              "      <td>1.113981</td>\n",
              "      <td>2.897849</td>\n",
              "      <td>0.127434</td>\n",
              "      <td>0.265245</td>\n",
              "      <td>0.800049</td>\n",
              "      <td>-0.163298</td>\n",
              "      <td>0.123205</td>\n",
              "      <td>-0.569159</td>\n",
              "      <td>0.546668</td>\n",
              "      <td>0.108821</td>\n",
              "      <td>0.104533</td>\n",
              "      <td>10.00</td>\n",
              "      <td>0</td>\n",
              "    </tr>\n",
              "    <tr>\n",
              "      <th>284806</th>\n",
              "      <td>172792.0</td>\n",
              "      <td>-0.533413</td>\n",
              "      <td>-0.189733</td>\n",
              "      <td>0.703337</td>\n",
              "      <td>-0.506271</td>\n",
              "      <td>-0.012546</td>\n",
              "      <td>-0.649617</td>\n",
              "      <td>1.577006</td>\n",
              "      <td>-0.414650</td>\n",
              "      <td>0.486180</td>\n",
              "      <td>-0.915427</td>\n",
              "      <td>-1.040458</td>\n",
              "      <td>-0.031513</td>\n",
              "      <td>-0.188093</td>\n",
              "      <td>-0.084316</td>\n",
              "      <td>0.041333</td>\n",
              "      <td>-0.302620</td>\n",
              "      <td>-0.660377</td>\n",
              "      <td>0.167430</td>\n",
              "      <td>-0.256117</td>\n",
              "      <td>0.382948</td>\n",
              "      <td>0.261057</td>\n",
              "      <td>0.643078</td>\n",
              "      <td>0.376777</td>\n",
              "      <td>0.008797</td>\n",
              "      <td>-0.473649</td>\n",
              "      <td>-0.818267</td>\n",
              "      <td>-0.002415</td>\n",
              "      <td>0.013649</td>\n",
              "      <td>217.00</td>\n",
              "      <td>0</td>\n",
              "    </tr>\n",
              "  </tbody>\n",
              "</table>\n",
              "</div>"
            ],
            "text/plain": [
              "            Time         V1         V2  ...       V28  Amount  Class\n",
              "284802  172786.0 -11.881118  10.071785  ...  0.823731    0.77      0\n",
              "284803  172787.0  -0.732789  -0.055080  ... -0.053527   24.79      0\n",
              "284804  172788.0   1.919565  -0.301254  ... -0.026561   67.88      0\n",
              "284805  172788.0  -0.240440   0.530483  ...  0.104533   10.00      0\n",
              "284806  172792.0  -0.533413  -0.189733  ...  0.013649  217.00      0\n",
              "\n",
              "[5 rows x 31 columns]"
            ]
          },
          "metadata": {
            "tags": []
          },
          "execution_count": 2
        }
      ]
    },
    {
      "cell_type": "markdown",
      "metadata": {
        "id": "EjGYAl9ehz_y",
        "colab_type": "text"
      },
      "source": [
        "##2. Data Preparation and data exploration "
      ]
    },
    {
      "cell_type": "code",
      "metadata": {
        "id": "DNrqmhxZehsh",
        "colab_type": "code",
        "colab": {
          "base_uri": "https://localhost:8080/",
          "height": 34
        },
        "outputId": "0de8e623-171b-441f-8266-ef5e638774a6"
      },
      "source": [
        "df.shape "
      ],
      "execution_count": 3,
      "outputs": [
        {
          "output_type": "execute_result",
          "data": {
            "text/plain": [
              "(284807, 31)"
            ]
          },
          "metadata": {
            "tags": []
          },
          "execution_count": 3
        }
      ]
    },
    {
      "cell_type": "markdown",
      "metadata": {
        "id": "gCtjpnIaeni3",
        "colab_type": "text"
      },
      "source": [
        "This data set consists 284,807 rows and 31 columns. "
      ]
    },
    {
      "cell_type": "code",
      "metadata": {
        "id": "5mo4fxFDwsod",
        "colab_type": "code",
        "outputId": "025d5e6c-8d4a-44fc-e28a-09d8a2934db8",
        "colab": {
          "base_uri": "https://localhost:8080/",
          "height": 570
        }
      },
      "source": [
        "#check if dataframe has any missing value\n",
        "df.isnull().sum()"
      ],
      "execution_count": 4,
      "outputs": [
        {
          "output_type": "execute_result",
          "data": {
            "text/plain": [
              "Time      0\n",
              "V1        0\n",
              "V2        0\n",
              "V3        0\n",
              "V4        0\n",
              "V5        0\n",
              "V6        0\n",
              "V7        0\n",
              "V8        0\n",
              "V9        0\n",
              "V10       0\n",
              "V11       0\n",
              "V12       0\n",
              "V13       0\n",
              "V14       0\n",
              "V15       0\n",
              "V16       0\n",
              "V17       0\n",
              "V18       0\n",
              "V19       0\n",
              "V20       0\n",
              "V21       0\n",
              "V22       0\n",
              "V23       0\n",
              "V24       0\n",
              "V25       0\n",
              "V26       0\n",
              "V27       0\n",
              "V28       0\n",
              "Amount    0\n",
              "Class     0\n",
              "dtype: int64"
            ]
          },
          "metadata": {
            "tags": []
          },
          "execution_count": 4
        }
      ]
    },
    {
      "cell_type": "markdown",
      "metadata": {
        "id": "rxLbsxiffX1F",
        "colab_type": "text"
      },
      "source": [
        "Above shows that there is no missing value at this dataset."
      ]
    },
    {
      "cell_type": "code",
      "metadata": {
        "id": "CnK4LeytmuWb",
        "colab_type": "code",
        "outputId": "0ac087db-1973-4799-ff82-12c95fb067fe",
        "colab": {
          "base_uri": "https://localhost:8080/",
          "height": 674
        }
      },
      "source": [
        "#look at data type for each column\n",
        "df.info()"
      ],
      "execution_count": 5,
      "outputs": [
        {
          "output_type": "stream",
          "text": [
            "<class 'pandas.core.frame.DataFrame'>\n",
            "RangeIndex: 284807 entries, 0 to 284806\n",
            "Data columns (total 31 columns):\n",
            " #   Column  Non-Null Count   Dtype  \n",
            "---  ------  --------------   -----  \n",
            " 0   Time    284807 non-null  float64\n",
            " 1   V1      284807 non-null  float64\n",
            " 2   V2      284807 non-null  float64\n",
            " 3   V3      284807 non-null  float64\n",
            " 4   V4      284807 non-null  float64\n",
            " 5   V5      284807 non-null  float64\n",
            " 6   V6      284807 non-null  float64\n",
            " 7   V7      284807 non-null  float64\n",
            " 8   V8      284807 non-null  float64\n",
            " 9   V9      284807 non-null  float64\n",
            " 10  V10     284807 non-null  float64\n",
            " 11  V11     284807 non-null  float64\n",
            " 12  V12     284807 non-null  float64\n",
            " 13  V13     284807 non-null  float64\n",
            " 14  V14     284807 non-null  float64\n",
            " 15  V15     284807 non-null  float64\n",
            " 16  V16     284807 non-null  float64\n",
            " 17  V17     284807 non-null  float64\n",
            " 18  V18     284807 non-null  float64\n",
            " 19  V19     284807 non-null  float64\n",
            " 20  V20     284807 non-null  float64\n",
            " 21  V21     284807 non-null  float64\n",
            " 22  V22     284807 non-null  float64\n",
            " 23  V23     284807 non-null  float64\n",
            " 24  V24     284807 non-null  float64\n",
            " 25  V25     284807 non-null  float64\n",
            " 26  V26     284807 non-null  float64\n",
            " 27  V27     284807 non-null  float64\n",
            " 28  V28     284807 non-null  float64\n",
            " 29  Amount  284807 non-null  float64\n",
            " 30  Class   284807 non-null  int64  \n",
            "dtypes: float64(30), int64(1)\n",
            "memory usage: 67.4 MB\n"
          ],
          "name": "stdout"
        }
      ]
    },
    {
      "cell_type": "markdown",
      "metadata": {
        "id": "nihrl8KUfomE",
        "colab_type": "text"
      },
      "source": [
        "Most of the columns are float type, and only Class column is int type. This class column is the target value, 1 means fraud and 0 means non-fraud."
      ]
    },
    {
      "cell_type": "code",
      "metadata": {
        "id": "KFoMyRxXoYgL",
        "colab_type": "code",
        "colab": {}
      },
      "source": [
        "#show statistic value of each column\n",
        "#df.describe()"
      ],
      "execution_count": 0,
      "outputs": []
    },
    {
      "cell_type": "code",
      "metadata": {
        "id": "0WIdvEX3onr4",
        "colab_type": "code",
        "outputId": "e42d194e-9fa3-4eba-98a0-2c6f13762c55",
        "colab": {
          "base_uri": "https://localhost:8080/",
          "height": 34
        }
      },
      "source": [
        "#look at only fraud data\n",
        "df_1 = df.loc[df['Class']==1] \n",
        "df_1.shape"
      ],
      "execution_count": 7,
      "outputs": [
        {
          "output_type": "execute_result",
          "data": {
            "text/plain": [
              "(492, 31)"
            ]
          },
          "metadata": {
            "tags": []
          },
          "execution_count": 7
        }
      ]
    },
    {
      "cell_type": "code",
      "metadata": {
        "id": "vb61mnFBo9tN",
        "colab_type": "code",
        "outputId": "ca791242-1160-4388-f640-7917c7bfc4e2",
        "colab": {
          "base_uri": "https://localhost:8080/",
          "height": 34
        }
      },
      "source": [
        "df_0 = df.loc[df['Class']==0]\n",
        "df_0.shape"
      ],
      "execution_count": 8,
      "outputs": [
        {
          "output_type": "execute_result",
          "data": {
            "text/plain": [
              "(284315, 31)"
            ]
          },
          "metadata": {
            "tags": []
          },
          "execution_count": 8
        }
      ]
    },
    {
      "cell_type": "markdown",
      "metadata": {
        "id": "mZ-7MIbExL2x",
        "colab_type": "text"
      },
      "source": [
        "Above shows that fraud data has 492 rows which is 0.173% of the dataset, and non-fraud data has 176, 033 rows which is 99.827% of the dataset. This is an unbalanced dataset."
      ]
    },
    {
      "cell_type": "markdown",
      "metadata": {
        "id": "_H3ZypcbiFVg",
        "colab_type": "text"
      },
      "source": [
        "##3. Data Visualization"
      ]
    },
    {
      "cell_type": "code",
      "metadata": {
        "id": "v5wiP-Wq1Gl-",
        "colab_type": "code",
        "outputId": "872f43b7-3aa1-4b13-c92a-e0bd90b3bcf6",
        "colab": {
          "base_uri": "https://localhost:8080/",
          "height": 385
        }
      },
      "source": [
        "#visulize the unbalanced data\n",
        "import matplotlib.pyplot as plt\n",
        "import seaborn as sns\n",
        "sns.countplot('Class', data=df)\n",
        "plt.title('Class Distributions \\n (0 = non-fraud and 1 = fraud)', fontsize=14)"
      ],
      "execution_count": 9,
      "outputs": [
        {
          "output_type": "stream",
          "text": [
            "/usr/local/lib/python3.6/dist-packages/statsmodels/tools/_testing.py:19: FutureWarning: pandas.util.testing is deprecated. Use the functions in the public API at pandas.testing instead.\n",
            "  import pandas.util.testing as tm\n"
          ],
          "name": "stderr"
        },
        {
          "output_type": "execute_result",
          "data": {
            "text/plain": [
              "Text(0.5, 1.0, 'Class Distributions \\n (0 = non-fraud and 1 = fraud)')"
            ]
          },
          "metadata": {
            "tags": []
          },
          "execution_count": 9
        },
        {
          "output_type": "display_data",
          "data": {
            "image/png": "[encoded data removed]",
            "text/plain": [
              "<Figure size 432x288 with 1 Axes>"
            ]
          },
          "metadata": {
            "tags": []
          }
        }
      ]
    },
    {
      "cell_type": "markdown",
      "metadata": {
        "id": "T7LVKoIahQ96",
        "colab_type": "text"
      },
      "source": [
        "The bar chart above visulizes this unbalanced dataset. It shows that there are much more non-fraud data than fraud data."
      ]
    },
    {
      "cell_type": "markdown",
      "metadata": {
        "id": "YMLfUdyiiuZh",
        "colab_type": "text"
      },
      "source": [
        "##4. Data Preprocessing"
      ]
    },
    {
      "cell_type": "markdown",
      "metadata": {
        "id": "avBx3yKU9JZX",
        "colab_type": "text"
      },
      "source": [
        "The following is shows how to scale the data, column time and amount are not scaled yet before fit them into model."
      ]
    },
    {
      "cell_type": "code",
      "metadata": {
        "id": "fJDYOTYvqBxn",
        "colab_type": "code",
        "outputId": "32e614fa-6b78-4a88-8e2a-cc8cb02e88d1",
        "colab": {
          "base_uri": "https://localhost:8080/",
          "height": 121
        }
      },
      "source": [
        "#This apply scaler to column amount and time\n",
        "from sklearn.preprocessing import StandardScaler, RobustScaler\n",
        "amount = df['Amount'].values.reshape(-1, 1)\n",
        "transformer = RobustScaler().fit(amount)\n",
        "df['scale_amount'] = transformer.transform(amount)\n",
        "df['scale_amount'].head()"
      ],
      "execution_count": 10,
      "outputs": [
        {
          "output_type": "execute_result",
          "data": {
            "text/plain": [
              "0    1.783274\n",
              "1   -0.269825\n",
              "2    4.983721\n",
              "3    1.418291\n",
              "4    0.670579\n",
              "Name: scale_amount, dtype: float64"
            ]
          },
          "metadata": {
            "tags": []
          },
          "execution_count": 10
        }
      ]
    },
    {
      "cell_type": "code",
      "metadata": {
        "id": "AzfSU6ny_s0Q",
        "colab_type": "code",
        "outputId": "bc92789d-79a2-4a68-ebe0-a17800db814a",
        "colab": {
          "base_uri": "https://localhost:8080/",
          "height": 121
        }
      },
      "source": [
        "#transfer data into 2D array repeat steps above\n",
        "time = df['Time'].values.reshape(-1, 1)\n",
        "transformer2 = RobustScaler().fit(time)\n",
        "df['scale_time'] = transformer2.transform(time)\n",
        "df['scale_time'].head()"
      ],
      "execution_count": 11,
      "outputs": [
        {
          "output_type": "execute_result",
          "data": {
            "text/plain": [
              "0   -0.994983\n",
              "1   -0.994983\n",
              "2   -0.994972\n",
              "3   -0.994972\n",
              "4   -0.994960\n",
              "Name: scale_time, dtype: float64"
            ]
          },
          "metadata": {
            "tags": []
          },
          "execution_count": 11
        }
      ]
    },
    {
      "cell_type": "code",
      "metadata": {
        "id": "gy0lFfN_EUMF",
        "colab_type": "code",
        "colab": {}
      },
      "source": [
        "#drop the column without scale\n",
        "df.drop(['Time','Amount'], axis=1, inplace=True)"
      ],
      "execution_count": 0,
      "outputs": []
    },
    {
      "cell_type": "markdown",
      "metadata": {
        "id": "BOmmqlrHx6Kb",
        "colab_type": "text"
      },
      "source": [
        "This method is to remove some data and match a 50/50 ratio on the new dataset."
      ]
    },
    {
      "cell_type": "code",
      "metadata": {
        "id": "u-O1-K33xmBU",
        "colab_type": "code",
        "outputId": "62c880e9-c084-4cb8-bb37-9a446cadd4a6",
        "colab": {
          "base_uri": "https://localhost:8080/",
          "height": 218
        }
      },
      "source": [
        "df_random = df.sample(frac=1) #return random sample items\n",
        "# amount of fraud classes 492 rows\n",
        "fraud_df = df_random.loc[df_random['Class']==1] #dataset for fraud\n",
        "non_fraud_df = df_random.loc[df_random['Class']==0][:492] #dataset for non_fraud\n",
        "\n",
        "normal_distributed_df = pd.concat([fraud_df, non_fraud_df])\n",
        "\n",
        "#Shuffle dataframerows\n",
        "new_df = normal_distributed_df.sample(frac=1, random_state=42)\n",
        "\n",
        "new_df.head()"
      ],
      "execution_count": 13,
      "outputs": [
        {
          "output_type": "execute_result",
          "data": {
            "text/html": [
              "<div>\n",
              "<style scoped>\n",
              "    .dataframe tbody tr th:only-of-type {\n",
              "        vertical-align: middle;\n",
              "    }\n",
              "\n",
              "    .dataframe tbody tr th {\n",
              "        vertical-align: top;\n",
              "    }\n",
              "\n",
              "    .dataframe thead th {\n",
              "        text-align: right;\n",
              "    }\n",
              "</style>\n",
              "<table border=\"1\" class=\"dataframe\">\n",
              "  <thead>\n",
              "    <tr style=\"text-align: right;\">\n",
              "      <th></th>\n",
              "      <th>V1</th>\n",
              "      <th>V2</th>\n",
              "      <th>V3</th>\n",
              "      <th>V4</th>\n",
              "      <th>V5</th>\n",
              "      <th>V6</th>\n",
              "      <th>V7</th>\n",
              "      <th>V8</th>\n",
              "      <th>V9</th>\n",
              "      <th>V10</th>\n",
              "      <th>V11</th>\n",
              "      <th>V12</th>\n",
              "      <th>V13</th>\n",
              "      <th>V14</th>\n",
              "      <th>V15</th>\n",
              "      <th>V16</th>\n",
              "      <th>V17</th>\n",
              "      <th>V18</th>\n",
              "      <th>V19</th>\n",
              "      <th>V20</th>\n",
              "      <th>V21</th>\n",
              "      <th>V22</th>\n",
              "      <th>V23</th>\n",
              "      <th>V24</th>\n",
              "      <th>V25</th>\n",
              "      <th>V26</th>\n",
              "      <th>V27</th>\n",
              "      <th>V28</th>\n",
              "      <th>Class</th>\n",
              "      <th>scale_amount</th>\n",
              "      <th>scale_time</th>\n",
              "    </tr>\n",
              "  </thead>\n",
              "  <tbody>\n",
              "    <tr>\n",
              "      <th>114777</th>\n",
              "      <td>-0.483757</td>\n",
              "      <td>0.899320</td>\n",
              "      <td>1.670685</td>\n",
              "      <td>0.074251</td>\n",
              "      <td>-0.305907</td>\n",
              "      <td>-1.135818</td>\n",
              "      <td>0.620007</td>\n",
              "      <td>-0.018663</td>\n",
              "      <td>-0.239161</td>\n",
              "      <td>-0.279292</td>\n",
              "      <td>-0.306939</td>\n",
              "      <td>-0.561328</td>\n",
              "      <td>-1.192514</td>\n",
              "      <td>0.397402</td>\n",
              "      <td>0.954788</td>\n",
              "      <td>0.158102</td>\n",
              "      <td>-0.207099</td>\n",
              "      <td>-0.311453</td>\n",
              "      <td>-0.102646</td>\n",
              "      <td>0.039419</td>\n",
              "      <td>-0.211797</td>\n",
              "      <td>-0.633826</td>\n",
              "      <td>0.057961</td>\n",
              "      <td>0.659414</td>\n",
              "      <td>-0.272259</td>\n",
              "      <td>0.054692</td>\n",
              "      <td>0.253927</td>\n",
              "      <td>0.123316</td>\n",
              "      <td>0</td>\n",
              "      <td>-0.175784</td>\n",
              "      <td>-0.130100</td>\n",
              "    </tr>\n",
              "    <tr>\n",
              "      <th>195383</th>\n",
              "      <td>0.469750</td>\n",
              "      <td>-1.237555</td>\n",
              "      <td>-1.767341</td>\n",
              "      <td>4.833490</td>\n",
              "      <td>-0.268715</td>\n",
              "      <td>-0.512760</td>\n",
              "      <td>1.140149</td>\n",
              "      <td>-0.341273</td>\n",
              "      <td>-1.046351</td>\n",
              "      <td>0.085662</td>\n",
              "      <td>-0.000121</td>\n",
              "      <td>-0.054381</td>\n",
              "      <td>0.736192</td>\n",
              "      <td>-2.306645</td>\n",
              "      <td>-0.464003</td>\n",
              "      <td>1.672723</td>\n",
              "      <td>1.165737</td>\n",
              "      <td>0.561323</td>\n",
              "      <td>-2.300798</td>\n",
              "      <td>1.277315</td>\n",
              "      <td>0.303905</td>\n",
              "      <td>-0.647075</td>\n",
              "      <td>-0.373014</td>\n",
              "      <td>0.260801</td>\n",
              "      <td>-0.496566</td>\n",
              "      <td>-0.245973</td>\n",
              "      <td>-0.117858</td>\n",
              "      <td>0.144774</td>\n",
              "      <td>1</td>\n",
              "      <td>9.798225</td>\n",
              "      <td>0.544320</td>\n",
              "    </tr>\n",
              "    <tr>\n",
              "      <th>62528</th>\n",
              "      <td>0.426495</td>\n",
              "      <td>1.870505</td>\n",
              "      <td>-2.145193</td>\n",
              "      <td>1.609318</td>\n",
              "      <td>0.672354</td>\n",
              "      <td>-1.610423</td>\n",
              "      <td>0.479028</td>\n",
              "      <td>0.307463</td>\n",
              "      <td>-0.729606</td>\n",
              "      <td>-1.235503</td>\n",
              "      <td>2.216955</td>\n",
              "      <td>0.039857</td>\n",
              "      <td>-0.515527</td>\n",
              "      <td>-2.953245</td>\n",
              "      <td>0.376900</td>\n",
              "      <td>1.170784</td>\n",
              "      <td>2.759493</td>\n",
              "      <td>2.085322</td>\n",
              "      <td>-0.124898</td>\n",
              "      <td>-0.021945</td>\n",
              "      <td>-0.057010</td>\n",
              "      <td>-0.089720</td>\n",
              "      <td>0.129000</td>\n",
              "      <td>-0.026558</td>\n",
              "      <td>-0.476379</td>\n",
              "      <td>-0.414937</td>\n",
              "      <td>0.126098</td>\n",
              "      <td>-0.058007</td>\n",
              "      <td>0</td>\n",
              "      <td>-0.272480</td>\n",
              "      <td>-0.403999</td>\n",
              "    </tr>\n",
              "    <tr>\n",
              "      <th>17317</th>\n",
              "      <td>-27.848181</td>\n",
              "      <td>15.598193</td>\n",
              "      <td>-28.923756</td>\n",
              "      <td>6.418442</td>\n",
              "      <td>-20.346228</td>\n",
              "      <td>-4.828202</td>\n",
              "      <td>-19.210896</td>\n",
              "      <td>18.329406</td>\n",
              "      <td>-3.668735</td>\n",
              "      <td>-8.009159</td>\n",
              "      <td>4.303096</td>\n",
              "      <td>-6.008660</td>\n",
              "      <td>1.138969</td>\n",
              "      <td>-5.580447</td>\n",
              "      <td>-0.110737</td>\n",
              "      <td>-5.491073</td>\n",
              "      <td>-11.588544</td>\n",
              "      <td>-4.715420</td>\n",
              "      <td>0.734573</td>\n",
              "      <td>1.697856</td>\n",
              "      <td>1.802149</td>\n",
              "      <td>-2.062934</td>\n",
              "      <td>-1.269843</td>\n",
              "      <td>0.165409</td>\n",
              "      <td>1.999499</td>\n",
              "      <td>-0.211059</td>\n",
              "      <td>1.324809</td>\n",
              "      <td>0.388090</td>\n",
              "      <td>1</td>\n",
              "      <td>1.089779</td>\n",
              "      <td>-0.658690</td>\n",
              "    </tr>\n",
              "    <tr>\n",
              "      <th>79874</th>\n",
              "      <td>-0.443794</td>\n",
              "      <td>1.271395</td>\n",
              "      <td>1.206178</td>\n",
              "      <td>0.790371</td>\n",
              "      <td>0.418935</td>\n",
              "      <td>-0.848376</td>\n",
              "      <td>0.917691</td>\n",
              "      <td>-0.235511</td>\n",
              "      <td>-0.285692</td>\n",
              "      <td>-0.867900</td>\n",
              "      <td>0.614977</td>\n",
              "      <td>-0.657948</td>\n",
              "      <td>-0.948412</td>\n",
              "      <td>-1.635145</td>\n",
              "      <td>1.263203</td>\n",
              "      <td>0.068533</td>\n",
              "      <td>1.325794</td>\n",
              "      <td>0.376383</td>\n",
              "      <td>-1.096196</td>\n",
              "      <td>-0.067205</td>\n",
              "      <td>0.119279</td>\n",
              "      <td>0.513479</td>\n",
              "      <td>-0.264243</td>\n",
              "      <td>0.443311</td>\n",
              "      <td>0.029516</td>\n",
              "      <td>-0.335141</td>\n",
              "      <td>-0.188815</td>\n",
              "      <td>-0.123391</td>\n",
              "      <td>1</td>\n",
              "      <td>-0.236289</td>\n",
              "      <td>-0.311035</td>\n",
              "    </tr>\n",
              "  </tbody>\n",
              "</table>\n",
              "</div>"
            ],
            "text/plain": [
              "               V1         V2         V3  ...  Class  scale_amount  scale_time\n",
              "114777  -0.483757   0.899320   1.670685  ...      0     -0.175784   -0.130100\n",
              "195383   0.469750  -1.237555  -1.767341  ...      1      9.798225    0.544320\n",
              "62528    0.426495   1.870505  -2.145193  ...      0     -0.272480   -0.403999\n",
              "17317  -27.848181  15.598193 -28.923756  ...      1      1.089779   -0.658690\n",
              "79874   -0.443794   1.271395   1.206178  ...      1     -0.236289   -0.311035\n",
              "\n",
              "[5 rows x 31 columns]"
            ]
          },
          "metadata": {
            "tags": []
          },
          "execution_count": 13
        }
      ]
    },
    {
      "cell_type": "markdown",
      "metadata": {
        "id": "YjBNw8Zakigb",
        "colab_type": "text"
      },
      "source": [
        "#Visulize the balanced dataset"
      ]
    },
    {
      "cell_type": "code",
      "metadata": {
        "id": "uFvOIrcSPlGb",
        "colab_type": "code",
        "outputId": "ec8a5208-1ef9-4a79-a24e-196d2a71dd46",
        "colab": {
          "base_uri": "https://localhost:8080/",
          "height": 296
        }
      },
      "source": [
        "sns.countplot('Class', data=new_df)\n",
        "plt.title('Equally Distributed Classes', fontsize=14)\n",
        "plt.show()"
      ],
      "execution_count": 14,
      "outputs": [
        {
          "output_type": "display_data",
          "data": {
            "image/png": "[encoded data removed]",
            "text/plain": [
              "<Figure size 432x288 with 1 Axes>"
            ]
          },
          "metadata": {
            "tags": []
          }
        }
      ]
    },
    {
      "cell_type": "code",
      "metadata": {
        "id": "OFhnWPq0QIzT",
        "colab_type": "code",
        "outputId": "bd3e39b2-8d20-4143-c4d0-a81c27cc1da1",
        "colab": {
          "base_uri": "https://localhost:8080/",
          "height": 313
        }
      },
      "source": [
        "#use subsample to plot correlation\n",
        "sub_sample_corr = new_df.corr()\n",
        "sns.heatmap(sub_sample_corr,cmap='coolwarm_r', annot_kws={'size':20})\n",
        "plt.show()"
      ],
      "execution_count": 15,
      "outputs": [
        {
          "output_type": "display_data",
          "data": {
            "image/png": "[encoded data removed]",
            "text/plain": [
              "<Figure size 432x288 with 2 Axes>"
            ]
          },
          "metadata": {
            "tags": []
          }
        }
      ]
    },
    {
      "cell_type": "markdown",
      "metadata": {
        "id": "va0dEVgolrOe",
        "colab_type": "text"
      },
      "source": [
        "#5. Prepare the sample and split them into train and test set"
      ]
    },
    {
      "cell_type": "code",
      "metadata": {
        "id": "6UGXr7do-N_J",
        "colab_type": "code",
        "colab": {}
      },
      "source": [
        "#Undersampling before cross validating (prone to overfit)\n",
        "X = new_df.drop('Class', axis=1)\n",
        "y = new_df['Class']\n",
        "\n",
        "from sklearn.model_selection import train_test_split\n",
        "X_train, X_test, y_train, y_test = train_test_split(X, y, test_size=0.2, random_state=42)\n",
        "\n"
      ],
      "execution_count": 0,
      "outputs": []
    },
    {
      "cell_type": "code",
      "metadata": {
        "id": "sVuuya22HpWS",
        "colab_type": "code",
        "colab": {}
      },
      "source": [
        "from sklearn.linear_model import LogisticRegression\n",
        "clf = LogisticRegression(random_state=42).fit(X_train, y_train)"
      ],
      "execution_count": 0,
      "outputs": []
    },
    {
      "cell_type": "code",
      "metadata": {
        "id": "WerLlHBgZr0Y",
        "colab_type": "code",
        "outputId": "4dd65221-c7f3-4668-bbea-a5eec612fe53",
        "colab": {
          "base_uri": "https://localhost:8080/",
          "height": 104
        }
      },
      "source": [
        "clf"
      ],
      "execution_count": 18,
      "outputs": [
        {
          "output_type": "execute_result",
          "data": {
            "text/plain": [
              "LogisticRegression(C=1.0, class_weight=None, dual=False, fit_intercept=True,\n",
              "                   intercept_scaling=1, l1_ratio=None, max_iter=100,\n",
              "                   multi_class='auto', n_jobs=None, penalty='l2',\n",
              "                   random_state=42, solver='lbfgs', tol=0.0001, verbose=0,\n",
              "                   warm_start=False)"
            ]
          },
          "metadata": {
            "tags": []
          },
          "execution_count": 18
        }
      ]
    },
    {
      "cell_type": "code",
      "metadata": {
        "id": "I9Jo-JQbZhlL",
        "colab_type": "code",
        "outputId": "4a23a5fd-35e6-4cdb-8a2b-2a8d5ac8dff7",
        "colab": {
          "base_uri": "https://localhost:8080/",
          "height": 52
        }
      },
      "source": [
        "#apply cross validation\n",
        "from sklearn.model_selection import cross_val_score\n",
        "training_score = cross_val_score(clf, X_train, y_train, cv=10)\n",
        "training_score\n"
      ],
      "execution_count": 19,
      "outputs": [
        {
          "output_type": "execute_result",
          "data": {
            "text/plain": [
              "array([0.93670886, 0.91139241, 0.89873418, 0.96202532, 0.92405063,\n",
              "       0.93670886, 0.94936709, 0.96153846, 0.97435897, 0.93589744])"
            ]
          },
          "metadata": {
            "tags": []
          },
          "execution_count": 19
        }
      ]
    },
    {
      "cell_type": "code",
      "metadata": {
        "id": "d3eI0BgwXFH2",
        "colab_type": "code",
        "outputId": "4a59fc30-c95d-49a6-9ba5-75a219731740",
        "colab": {
          "base_uri": "https://localhost:8080/",
          "height": 34
        }
      },
      "source": [
        "training_score.mean()"
      ],
      "execution_count": 20,
      "outputs": [
        {
          "output_type": "execute_result",
          "data": {
            "text/plain": [
              "0.9390782213567024"
            ]
          },
          "metadata": {
            "tags": []
          },
          "execution_count": 20
        }
      ]
    },
    {
      "cell_type": "code",
      "metadata": {
        "id": "YkkfqpJKalM8",
        "colab_type": "code",
        "colab": {}
      },
      "source": [
        ""
      ],
      "execution_count": 0,
      "outputs": []
    }
  ]
}