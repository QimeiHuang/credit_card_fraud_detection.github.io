{
 "cells": [
  {
   "cell_type": "markdown",
   "metadata": {
    "colab_type": "text",
    "id": "avCzNM3w4-I7"
   },
   "source": [
    "Team Project: Group #10\n",
    "Fraudulent transaction detection\n"
   ]
  },
  {
   "cell_type": "markdown",
   "metadata": {},
   "source": [
    "# Fraud Detection"
   ]
  },
  {
   "cell_type": "markdown",
   "metadata": {},
   "source": [
    "## Goals:\n",
    "- Create training set that can identify new fraud transactions\n",
    "- Identify of the missing field headers"
   ]
  },
  {
   "cell_type": "markdown",
   "metadata": {},
   "source": [
    "Imports:"
   ]
  },
  {
   "cell_type": "code",
   "execution_count": 1,
   "metadata": {
    "colab": {
     "base_uri": "https://localhost:8080/",
     "height": 545
    },
    "colab_type": "code",
    "id": "SowYO19Z5byL",
    "outputId": "131edfa1-06f0-4ce1-ef18-7f9dbf0ff0e7"
   },
   "outputs": [
    {
     "name": "stdout",
     "output_type": "stream",
     "text": [
      "0            0.0\n",
      "1            0.0\n",
      "2            1.0\n",
      "3            1.0\n",
      "4            2.0\n",
      "          ...   \n",
      "4628    172786.0\n",
      "4629    172787.0\n",
      "4630    172788.0\n",
      "4631    172788.0\n",
      "4632    172792.0\n",
      "Name: Time, Length: 284807, dtype: float64 ['V1'] ['Amount'] ['Class']\n"
     ]
    }
   ],
   "source": [
    "import numpy as np\n",
    "import pandas as pd\n",
    "import io\n",
    "import requests\n"
   ]
  },
  {
   "cell_type": "markdown",
   "metadata": {},
   "source": [
    "Gathering all of the data:"
   ]
  },
  {
   "cell_type": "code",
   "execution_count": null,
   "metadata": {},
   "outputs": [],
   "source": [
    "url1 = \"https://raw.githubusercontent.com/QimeiHuang/credit_card_fraud_detection.github.io/master/cc01.csv\"\n",
    "url2 = \"https://raw.githubusercontent.com/QimeiHuang/credit_card_fraud_detection.github.io/master/cc02.csv\"\n",
    "url3 = \"https://raw.githubusercontent.com/QimeiHuang/credit_card_fraud_detection.github.io/master/cc03.csv\"\n",
    "url4 = \"https://raw.githubusercontent.com/QimeiHuang/credit_card_fraud_detection.github.io/master/cc04.csv\"\n",
    "url5 = \"https://raw.githubusercontent.com/QimeiHuang/credit_card_fraud_detection.github.io/master/cc05.csv\"\n",
    "url6 = \"https://raw.githubusercontent.com/QimeiHuang/credit_card_fraud_detection.github.io/master/cc06.csv\"\n",
    "url7 = \"https://raw.githubusercontent.com/QimeiHuang/credit_card_fraud_detection.github.io/master/cc07.csv\"\n",
    "\n",
    "#s=requests.get(url).content\n",
    "df1 = pd.read_csv(url1)\n",
    "df2 = pd.read_csv(url2)\n",
    "df3 = pd.read_csv(url3)\n",
    "df4 = pd.read_csv(url4)\n",
    "df5 = pd.read_csv(url5)\n",
    "df6 = pd.read_csv(url6)\n",
    "df7 = pd.read_csv(url7)\n",
    "\n",
    "#df=[df2,df1]\n",
    "#io.StringIO(s.decode('utf-8')))\n",
    "df= df1.append(df2).append(df3).append(df4).append(df5).append(df6).append(df7)\n",
    "#d2=d.append(df3)"
   ]
  },
  {
   "cell_type": "markdown",
   "metadata": {},
   "source": [
    "Initial exploration:"
   ]
  },
  {
   "cell_type": "code",
   "execution_count": 3,
   "metadata": {},
   "outputs": [
    {
     "name": "stdout",
     "output_type": "stream",
     "text": [
      "          Time         V1         V2        V3        V4        V5        V6  \\\n",
      "0          0.0  -1.359807  -0.072781  2.536347  1.378155 -0.338321  0.462388   \n",
      "1          0.0   1.191857   0.266151  0.166480  0.448154  0.060018 -0.082361   \n",
      "2          1.0  -1.358354  -1.340163  1.773209  0.379780 -0.503198  1.800499   \n",
      "3          1.0  -0.966272  -0.185226  1.792993 -0.863291 -0.010309  1.247203   \n",
      "4          2.0  -1.158233   0.877737  1.548718  0.403034 -0.407193  0.095921   \n",
      "...        ...        ...        ...       ...       ...       ...       ...   \n",
      "4628  172786.0 -11.881118  10.071785 -9.834783 -2.066656 -5.364473 -2.606837   \n",
      "4629  172787.0  -0.732789  -0.055080  2.035030 -0.738589  0.868229  1.058415   \n",
      "4630  172788.0   1.919565  -0.301254 -3.249640 -0.557828  2.630515  3.031260   \n",
      "4631  172788.0  -0.240440   0.530483  0.702510  0.689799 -0.377961  0.623708   \n",
      "4632  172792.0  -0.533413  -0.189733  0.703337 -0.506271 -0.012546 -0.649617   \n",
      "\n",
      "            V7        V8        V9  ...       V21       V22       V23  \\\n",
      "0     0.239599  0.098698  0.363787  ... -0.018307  0.277838 -0.110474   \n",
      "1    -0.078803  0.085102 -0.255425  ... -0.225775 -0.638672  0.101288   \n",
      "2     0.791461  0.247676 -1.514654  ...  0.247998  0.771679  0.909412   \n",
      "3     0.237609  0.377436 -1.387024  ... -0.108300  0.005274 -0.190321   \n",
      "4     0.592941 -0.270533  0.817739  ... -0.009431  0.798278 -0.137458   \n",
      "...        ...       ...       ...  ...       ...       ...       ...   \n",
      "4628 -4.918215  7.305334  1.914428  ...  0.213454  0.111864  1.014480   \n",
      "4629  0.024330  0.294869  0.584800  ...  0.214205  0.924384  0.012463   \n",
      "4630 -0.296827  0.708417  0.432454  ...  0.232045  0.578229 -0.037501   \n",
      "4631 -0.686180  0.679145  0.392087  ...  0.265245  0.800049 -0.163298   \n",
      "4632  1.577006 -0.414650  0.486180  ...  0.261057  0.643078  0.376777   \n",
      "\n",
      "           V24       V25       V26       V27       V28  Amount  Class  \n",
      "0     0.066928  0.128539 -0.189115  0.133558 -0.021053  149.62      0  \n",
      "1    -0.339846  0.167170  0.125895 -0.008983  0.014724    2.69      0  \n",
      "2    -0.689281 -0.327642 -0.139097 -0.055353 -0.059752  378.66      0  \n",
      "3    -1.175575  0.647376 -0.221929  0.062723  0.061458  123.50      0  \n",
      "4     0.141267 -0.206010  0.502292  0.219422  0.215153   69.99      0  \n",
      "...        ...       ...       ...       ...       ...     ...    ...  \n",
      "4628 -0.509348  1.436807  0.250034  0.943651  0.823731    0.77      0  \n",
      "4629 -1.016226 -0.606624 -0.395255  0.068472 -0.053527   24.79      0  \n",
      "4630  0.640134  0.265745 -0.087371  0.004455 -0.026561   67.88      0  \n",
      "4631  0.123205 -0.569159  0.546668  0.108821  0.104533   10.00      0  \n",
      "4632  0.008797 -0.473649 -0.818267 -0.002415  0.013649  217.00      0  \n",
      "\n",
      "[284807 rows x 31 columns]\n"
     ]
    }
   ],
   "source": [
    "#df.info()\n",
    "print(df)\n",
    "#d=df[['Time','V1','Amount','Class']]\n",
    "\n",
    "#fraud = d['Class']>0\n",
    "#zero_transactions = d['Amount']<0.01\n",
    "#rint(d[fraud].info())\n",
    "#rint(d[zero_transactions].info())\n",
    "#rint(d[fraud & zero_transactions].info()"
   ]
  },
  {
   "cell_type": "code",
   "execution_count": null,
   "metadata": {},
   "outputs": [],
   "source": []
  }
 ],
 "metadata": {
  "colab": {
   "collapsed_sections": [],
   "name": "creditcard_ft.ipynb",
   "provenance": []
  },
  "kernelspec": {
   "display_name": "Python 3",
   "language": "python",
   "name": "python3"
  },
  "language_info": {
   "codemirror_mode": {
    "name": "ipython",
    "version": 3
   },
   "file_extension": ".py",
   "mimetype": "text/x-python",
   "name": "python",
   "nbconvert_exporter": "python",
   "pygments_lexer": "ipython3",
   "version": "3.7.4"
  }
 },
 "nbformat": 4,
 "nbformat_minor": 1
}
