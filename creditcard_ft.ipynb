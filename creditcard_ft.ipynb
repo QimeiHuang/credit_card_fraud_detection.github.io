{
  "nbformat": 4,
  "nbformat_minor": 0,
  "metadata": {
    "colab": {
      "name": "creditcard_ft.ipynb",
      "provenance": [],
      "collapsed_sections": []
    },
    "kernelspec": {
      "name": "python3",
      "display_name": "Python 3"
    }
  },
  "cells": [
    {
      "cell_type": "markdown",
      "metadata": {
        "id": "avCzNM3w4-I7",
        "colab_type": "text"
      },
      "source": [
        "Team Project: Group #10\n",
        "Fraudulent transaction detection\n"
      ]
    },
    {
      "cell_type": "code",
      "metadata": {
        "id": "SowYO19Z5byL",
        "colab_type": "code",
        "colab": {
          "base_uri": "https://localhost:8080/",
          "height": 545
        },
        "outputId": "131edfa1-06f0-4ce1-ef18-7f9dbf0ff0e7"
      },
      "source": [
        "import numpy as np\n",
        "import pandas as pd\n",
        "import io\n",
        "import requests\n",
        "\n",
        "url1 = \"https://raw.githubusercontent.com/QimeiHuang/credit_card_fraud_detection.github.io/master/cc01.csv\"\n",
        "url2 = \"https://raw.githubusercontent.com/QimeiHuang/credit_card_fraud_detection.github.io/master/cc02.csv\"\n",
        "url3 = \"https://raw.githubusercontent.com/QimeiHuang/credit_card_fraud_detection.github.io/master/cc03.csv\"\n",
        "url4 = \"https://raw.githubusercontent.com/QimeiHuang/credit_card_fraud_detection.github.io/master/cc04.csv\"\n",
        "url5 = \"https://raw.githubusercontent.com/QimeiHuang/credit_card_fraud_detection.github.io/master/cc05.csv\"\n",
        "url6 = \"https://raw.githubusercontent.com/QimeiHuang/credit_card_fraud_detection.github.io/master/cc06.csv\"\n",
        "url7 = \"https://raw.githubusercontent.com/QimeiHuang/credit_card_fraud_detection.github.io/master/cc07.csv\"\n",
        "\n",
        "#s=requests.get(url).content\n",
        "df1 = pd.read_csv(url1)\n",
        "df2 = pd.read_csv(url2)\n",
        "df3 = pd.read_csv(url3)\n",
        "df4 = pd.read_csv(url4)\n",
        "df5 = pd.read_csv(url5)\n",
        "df6 = pd.read_csv(url6)\n",
        "df7 = pd.read_csv(url7)\n",
        "\n",
        "#df=[df2,df1]\n",
        "#io.StringIO(s.decode('utf-8')))\n",
        "df= df1.append(df2).append(df3).append(df4).append(df5).append(df6).append(df7)\n",
        "#d2=d.append(df3)\n",
        "\n",
        "#df.info()\n",
        "#print(df['Time'],['V1'],['Amount'],['Clas]s'])\n",
        "d=df[['Time','V1','Amount','Class']]\n",
        "\n",
        "fraud = d['Class']>0\n",
        "zero_transactions = d['Amount']<0.01\n",
        "print(d[fraud].info())\n",
        "print(d[zero_transactions].info())\n",
        "print(d[fraud & zero_transactions].info())"
      ],
      "execution_count": 53,
      "outputs": [
        {
          "output_type": "stream",
          "text": [
            "<class 'pandas.core.frame.DataFrame'>\n",
            "Int64Index: 492 entries, 541 to 1500\n",
            "Data columns (total 4 columns):\n",
            "Time      492 non-null float64\n",
            "V1        492 non-null float64\n",
            "Amount    492 non-null float64\n",
            "Class     492 non-null int64\n",
            "dtypes: float64(3), int64(1)\n",
            "memory usage: 19.2 KB\n",
            "None\n",
            "<class 'pandas.core.frame.DataFrame'>\n",
            "Int64Index: 1825 entries, 383 to 4596\n",
            "Data columns (total 4 columns):\n",
            "Time      1825 non-null float64\n",
            "V1        1825 non-null float64\n",
            "Amount    1825 non-null float64\n",
            "Class     1825 non-null int64\n",
            "dtypes: float64(3), int64(1)\n",
            "memory usage: 71.3 KB\n",
            "None\n",
            "<class 'pandas.core.frame.DataFrame'>\n",
            "Int64Index: 27 entries, 541 to 45243\n",
            "Data columns (total 4 columns):\n",
            "Time      27 non-null float64\n",
            "V1        27 non-null float64\n",
            "Amount    27 non-null float64\n",
            "Class     27 non-null int64\n",
            "dtypes: float64(3), int64(1)\n",
            "memory usage: 1.1 KB\n",
            "None\n"
          ],
          "name": "stdout"
        }
      ]
    }
  ]
}