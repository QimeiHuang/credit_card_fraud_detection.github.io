{
  "nbformat": 4,
  "nbformat_minor": 0,
  "metadata": {
    "colab": {
      "name": "Copy of creditcard_ft.ipynb",
      "provenance": [],
      "collapsed_sections": []
    },
    "kernelspec": {
      "display_name": "Python 3",
      "language": "python",
      "name": "python3"
    },
    "language_info": {
      "codemirror_mode": {
        "name": "ipython",
        "version": 3
      },
      "file_extension": ".py",
      "mimetype": "text/x-python",
      "name": "python",
      "nbconvert_exporter": "python",
      "pygments_lexer": "ipython3",
      "version": "3.7.4"
    }
  },
  "cells": [
    {
      "cell_type": "markdown",
      "metadata": {
        "colab_type": "text",
        "id": "avCzNM3w4-I7"
      },
      "source": [
        "Team Project: Group #10\n",
        "Fraudulent transaction detection\n"
      ]
    },
    {
      "cell_type": "markdown",
      "metadata": {
        "id": "AM3prHcen0wM",
        "colab_type": "text"
      },
      "source": [
        "# Fraud Detection"
      ]
    },
    {
      "cell_type": "markdown",
      "metadata": {
        "id": "BDmJ0Hf5n0wO",
        "colab_type": "text"
      },
      "source": [
        "## Goals:\n",
        "- Create training set that can identify new fraud transactions\n",
        "- Identify of the missing field headers"
      ]
    },
    {
      "cell_type": "markdown",
      "metadata": {
        "id": "CmmI5e1Yn0wT",
        "colab_type": "text"
      },
      "source": [
        "Imports:"
      ]
    },
    {
      "cell_type": "code",
      "metadata": {
        "colab_type": "code",
        "id": "SowYO19Z5byL",
        "colab": {}
      },
      "source": [
        "import numpy as np\n",
        "import pandas as pd\n",
        "import io\n",
        "import requests\n",
        "import matplotlib.pyplot as plt\n",
        "import seaborn as sns"
      ],
      "execution_count": 0,
      "outputs": []
    },
    {
      "cell_type": "markdown",
      "metadata": {
        "id": "93dpzXfOn0wn",
        "colab_type": "text"
      },
      "source": [
        "Gathering all of the data:"
      ]
    },
    {
      "cell_type": "code",
      "metadata": {
        "id": "Y0s4Vi0wn0wo",
        "colab_type": "code",
        "colab": {}
      },
      "source": [
        "url1 = \"https://raw.githubusercontent.com/QimeiHuang/credit_card_fraud_detection.github.io/master/cc01.csv\"\n",
        "url2 = \"https://raw.githubusercontent.com/QimeiHuang/credit_card_fraud_detection.github.io/master/cc02.csv\"\n",
        "url3 = \"https://raw.githubusercontent.com/QimeiHuang/credit_card_fraud_detection.github.io/master/cc03.csv\"\n",
        "url4 = \"https://raw.githubusercontent.com/QimeiHuang/credit_card_fraud_detection.github.io/master/cc04.csv\"\n",
        "url5 = \"https://raw.githubusercontent.com/QimeiHuang/credit_card_fraud_detection.github.io/master/cc05.csv\"\n",
        "url6 = \"https://raw.githubusercontent.com/QimeiHuang/credit_card_fraud_detection.github.io/master/cc06.csv\"\n",
        "url7 = \"https://raw.githubusercontent.com/QimeiHuang/credit_card_fraud_detection.github.io/master/cc07.csv\"\n",
        "\n",
        "#s=requests.get(url).content\n",
        "df1 = pd.read_csv(url1)\n",
        "df2 = pd.read_csv(url2)\n",
        "df3 = pd.read_csv(url3)\n",
        "df4 = pd.read_csv(url4)\n",
        "df5 = pd.read_csv(url5)\n",
        "df6 = pd.read_csv(url6)\n",
        "df7 = pd.read_csv(url7)\n",
        "\n",
        "#df=[df2,df1]\n",
        "#io.StringIO(s.decode('utf-8')))\n",
        "df= df1.append(df2).append(df3).append(df4).append(df5).append(df6).append(df7)\n",
        "#d2=d.append(df3)"
      ],
      "execution_count": 0,
      "outputs": []
    },
    {
      "cell_type": "markdown",
      "metadata": {
        "id": "UlMODrmtn0wt",
        "colab_type": "text"
      },
      "source": [
        "Initial exploration:"
      ]
    },
    {
      "cell_type": "code",
      "metadata": {
        "id": "Xrvyrstmn0wu",
        "colab_type": "code",
        "outputId": "7e0935da-711d-434d-ef15-b968f3a10eb4",
        "colab": {
          "base_uri": "https://localhost:8080/",
          "height": 386
        }
      },
      "source": [
        "#df.info()\n",
        "#print(df)\n",
        "d=df[['Time','Amount','Class']]\n",
        "\n",
        "fraud = d['Class']>0\n",
        "zero_transactions = d['Amount']<0.01\n",
        "#print(fraud.info())\n",
        "print(d[fraud].describe())\n",
        "print(d[zero_transactions].describe())\n",
        "#print(d[fraud & zero_transactions].info()\n",
        "\n",
        "fraud_mean=d[fraud].mean()\n",
        "fraud_stdev=d[fraud].std()\n",
        "print(fraud_mean)\n",
        "\n",
        "#fraud_amount = fraud['Amount']\n",
        "#np=fraud['Amount'].to_numpy()\n",
        "#=np.array(fraud['Amount'])\n"
      ],
      "execution_count": 0,
      "outputs": [
        {
          "output_type": "stream",
          "text": [
            "                Time       Amount  Class\n",
            "count     492.000000   492.000000  492.0\n",
            "mean    80746.806911   122.211321    1.0\n",
            "std     47835.365138   256.683288    0.0\n",
            "min       406.000000     0.000000    1.0\n",
            "25%     41241.500000     1.000000    1.0\n",
            "50%     75568.500000     9.250000    1.0\n",
            "75%    128483.000000   105.890000    1.0\n",
            "max    170348.000000  2125.870000    1.0\n",
            "                Time  Amount        Class\n",
            "count    1825.000000  1825.0  1825.000000\n",
            "mean    89370.688767     0.0     0.014795\n",
            "std     48065.662780     0.0     0.120763\n",
            "min       282.000000     0.0     0.000000\n",
            "25%     47284.000000     0.0     0.000000\n",
            "50%     83419.000000     0.0     0.000000\n",
            "75%    131288.000000     0.0     0.000000\n",
            "max    172759.000000     0.0     1.000000\n",
            "Time      80746.806911\n",
            "Amount      122.211321\n",
            "Class         1.000000\n",
            "dtype: float64\n"
          ],
          "name": "stdout"
        }
      ]
    },
    {
      "cell_type": "code",
      "metadata": {
        "id": "biNwliYXn0xY",
        "colab_type": "code",
        "outputId": "20965f73-3454-4b3e-a7ce-20630ae943dd",
        "colab": {
          "base_uri": "https://localhost:8080/",
          "height": 530
        }
      },
      "source": [
        "plt.figure(figsize=(10,8))\n",
        "plt.title('Distribution of Time Feature')\n",
        "sns.distplot(d.Time)\n",
        "sns.distplot(d[fraud].Time)"
      ],
      "execution_count": 0,
      "outputs": [
        {
          "output_type": "execute_result",
          "data": {
            "text/plain": [
              "<matplotlib.axes._subplots.AxesSubplot at 0x7f2aa13680f0>"
            ]
          },
          "metadata": {
            "tags": []
          },
          "execution_count": 40
        },
        {
          "output_type": "display_data",
          "data": {
            "image/png": "[encoded data removed]",
            "text/plain": [
              "<Figure size 720x576 with 1 Axes>"
            ]
          },
          "metadata": {
            "tags": []
          }
        }
      ]
    },
    {
      "cell_type": "code",
      "metadata": {
        "id": "g58QSI6c3v_V",
        "colab_type": "code",
        "outputId": "3718836f-70f3-4d6f-d7a6-ee93a769dc14",
        "colab": {
          "base_uri": "https://localhost:8080/",
          "height": 84
        }
      },
      "source": [
        "print(len(df))\n",
        "\n",
        "mask = np.random.rand(len(df))< 0.9\n",
        "train = df[mask]\n",
        "test = df[~mask]\n",
        "print('Train Shape: {}\\nTest Shape: {}'.format(train.shape, test.shape))\n",
        "\n",
        "no_of_frauds = train.Class.value_counts()[1]\n",
        "print('There are {} fraudulent transactions in the train data.'.format(no_of_frauds))"
      ],
      "execution_count": 0,
      "outputs": [
        {
          "output_type": "stream",
          "text": [
            "284807\n",
            "Train Shape: (256653, 31)\n",
            "Test Shape: (28154, 31)\n",
            "There are 448 fraudulent transactions in the train data.\n"
          ],
          "name": "stdout"
        }
      ]
    }
  ]
}